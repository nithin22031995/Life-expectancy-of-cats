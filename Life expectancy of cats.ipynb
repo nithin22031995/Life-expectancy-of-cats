{
 "cells": [
  {
   "cell_type": "markdown",
   "metadata": {},
   "source": [
    "    Author: Nithin Akgilesh Venkat\n",
    "    Date: 27.10.2021\n",
    "    Topic: Cats life expectancy prediction"
   ]
  },
  {
   "cell_type": "markdown",
   "metadata": {},
   "source": [
    "**Import required libraries**"
   ]
  },
  {
   "cell_type": "code",
   "execution_count": 1,
   "metadata": {},
   "outputs": [],
   "source": [
    "import pandas as pd\n",
    "import numpy as np\n",
    "import matplotlib.pyplot as plt\n",
    "import seaborn as sns\n",
    "from scipy import stats\n",
    "\n",
    "from sklearn import preprocessing, linear_model, model_selection, metrics\n",
    "from sklearn.model_selection import train_test_split\n",
    "from sklearn.metrics import confusion_matrix, mean_squared_error\n",
    "from sklearn.linear_model import LinearRegression\n",
    "\n",
    "import warnings\n",
    "warnings.filterwarnings('ignore')"
   ]
  },
  {
   "cell_type": "markdown",
   "metadata": {},
   "source": [
    "**Load Dataset**"
   ]
  },
  {
   "cell_type": "code",
   "execution_count": 2,
   "metadata": {},
   "outputs": [
    {
     "data": {
      "text/html": [
       "<div>\n",
       "<style scoped>\n",
       "    .dataframe tbody tr th:only-of-type {\n",
       "        vertical-align: middle;\n",
       "    }\n",
       "\n",
       "    .dataframe tbody tr th {\n",
       "        vertical-align: top;\n",
       "    }\n",
       "\n",
       "    .dataframe thead th {\n",
       "        text-align: right;\n",
       "    }\n",
       "</style>\n",
       "<table border=\"1\" class=\"dataframe\">\n",
       "  <thead>\n",
       "    <tr style=\"text-align: right;\">\n",
       "      <th></th>\n",
       "      <th>age at death</th>\n",
       "      <th>breed</th>\n",
       "      <th>date of last vet visit</th>\n",
       "      <th>hair length</th>\n",
       "      <th>height</th>\n",
       "      <th>number of vet visits</th>\n",
       "      <th>weight</th>\n",
       "    </tr>\n",
       "  </thead>\n",
       "  <tbody>\n",
       "    <tr>\n",
       "      <th>0</th>\n",
       "      <td>7.0</td>\n",
       "      <td>Siamese</td>\n",
       "      <td>2009-08-02 14:02:18</td>\n",
       "      <td>0.883886</td>\n",
       "      <td>21.611951</td>\n",
       "      <td>5</td>\n",
       "      <td>4.0</td>\n",
       "    </tr>\n",
       "    <tr>\n",
       "      <th>1</th>\n",
       "      <td>9.0</td>\n",
       "      <td>Siamese</td>\n",
       "      <td>2013-11-27 19:08:52</td>\n",
       "      <td>1.221535</td>\n",
       "      <td>26.451956</td>\n",
       "      <td>10</td>\n",
       "      <td>4.0</td>\n",
       "    </tr>\n",
       "    <tr>\n",
       "      <th>2</th>\n",
       "      <td>8.0</td>\n",
       "      <td>Manx</td>\n",
       "      <td>2016-01-12 04:39:24</td>\n",
       "      <td>0.967718</td>\n",
       "      <td>18.540191</td>\n",
       "      <td>10</td>\n",
       "      <td>5.0</td>\n",
       "    </tr>\n",
       "    <tr>\n",
       "      <th>3</th>\n",
       "      <td>8.0</td>\n",
       "      <td>Maine Coon</td>\n",
       "      <td>2000-11-24 18:51:18</td>\n",
       "      <td>1.090641</td>\n",
       "      <td>16.564362</td>\n",
       "      <td>12</td>\n",
       "      <td>7.0</td>\n",
       "    </tr>\n",
       "    <tr>\n",
       "      <th>4</th>\n",
       "      <td>8.0</td>\n",
       "      <td>Maine Coon</td>\n",
       "      <td>2014-07-03 22:17:26</td>\n",
       "      <td>1.004712</td>\n",
       "      <td>22.535495</td>\n",
       "      <td>7</td>\n",
       "      <td>7.0</td>\n",
       "    </tr>\n",
       "  </tbody>\n",
       "</table>\n",
       "</div>"
      ],
      "text/plain": [
       "   age at death       breed date of last vet visit  hair length     height  \\\n",
       "0           7.0     Siamese    2009-08-02 14:02:18     0.883886  21.611951   \n",
       "1           9.0     Siamese    2013-11-27 19:08:52     1.221535  26.451956   \n",
       "2           8.0        Manx    2016-01-12 04:39:24     0.967718  18.540191   \n",
       "3           8.0  Maine Coon    2000-11-24 18:51:18     1.090641  16.564362   \n",
       "4           8.0  Maine Coon    2014-07-03 22:17:26     1.004712  22.535495   \n",
       "\n",
       "   number of vet visits  weight  \n",
       "0                     5     4.0  \n",
       "1                    10     4.0  \n",
       "2                    10     5.0  \n",
       "3                    12     7.0  \n",
       "4                     7     7.0  "
      ]
     },
     "execution_count": 2,
     "metadata": {},
     "output_type": "execute_result"
    }
   ],
   "source": [
    "df = pd.read_csv(\"cats.csv\" , sep=',', index_col =0)\n",
    "df.head()"
   ]
  },
  {
   "cell_type": "code",
   "execution_count": 3,
   "metadata": {},
   "outputs": [
    {
     "data": {
      "text/html": [
       "<div>\n",
       "<style scoped>\n",
       "    .dataframe tbody tr th:only-of-type {\n",
       "        vertical-align: middle;\n",
       "    }\n",
       "\n",
       "    .dataframe tbody tr th {\n",
       "        vertical-align: top;\n",
       "    }\n",
       "\n",
       "    .dataframe thead th {\n",
       "        text-align: right;\n",
       "    }\n",
       "</style>\n",
       "<table border=\"1\" class=\"dataframe\">\n",
       "  <thead>\n",
       "    <tr style=\"text-align: right;\">\n",
       "      <th></th>\n",
       "      <th>age at death</th>\n",
       "      <th>breed</th>\n",
       "      <th>date of last vet visit</th>\n",
       "      <th>hair length</th>\n",
       "      <th>height</th>\n",
       "      <th>number of vet visits</th>\n",
       "      <th>weight</th>\n",
       "    </tr>\n",
       "  </thead>\n",
       "  <tbody>\n",
       "    <tr>\n",
       "      <th>0</th>\n",
       "      <td>7.0</td>\n",
       "      <td>Siamese</td>\n",
       "      <td>2009-08-02 14:02:18</td>\n",
       "      <td>0.883886</td>\n",
       "      <td>21.611951</td>\n",
       "      <td>5</td>\n",
       "      <td>4.0</td>\n",
       "    </tr>\n",
       "    <tr>\n",
       "      <th>1</th>\n",
       "      <td>9.0</td>\n",
       "      <td>Siamese</td>\n",
       "      <td>2013-11-27 19:08:52</td>\n",
       "      <td>1.221535</td>\n",
       "      <td>26.451956</td>\n",
       "      <td>10</td>\n",
       "      <td>4.0</td>\n",
       "    </tr>\n",
       "    <tr>\n",
       "      <th>2</th>\n",
       "      <td>8.0</td>\n",
       "      <td>Manx</td>\n",
       "      <td>2016-01-12 04:39:24</td>\n",
       "      <td>0.967718</td>\n",
       "      <td>18.540191</td>\n",
       "      <td>10</td>\n",
       "      <td>5.0</td>\n",
       "    </tr>\n",
       "    <tr>\n",
       "      <th>3</th>\n",
       "      <td>8.0</td>\n",
       "      <td>Maine Coon</td>\n",
       "      <td>2000-11-24 18:51:18</td>\n",
       "      <td>1.090641</td>\n",
       "      <td>16.564362</td>\n",
       "      <td>12</td>\n",
       "      <td>7.0</td>\n",
       "    </tr>\n",
       "    <tr>\n",
       "      <th>4</th>\n",
       "      <td>8.0</td>\n",
       "      <td>Maine Coon</td>\n",
       "      <td>2014-07-03 22:17:26</td>\n",
       "      <td>1.004712</td>\n",
       "      <td>22.535495</td>\n",
       "      <td>7</td>\n",
       "      <td>7.0</td>\n",
       "    </tr>\n",
       "    <tr>\n",
       "      <th>...</th>\n",
       "      <td>...</td>\n",
       "      <td>...</td>\n",
       "      <td>...</td>\n",
       "      <td>...</td>\n",
       "      <td>...</td>\n",
       "      <td>...</td>\n",
       "      <td>...</td>\n",
       "    </tr>\n",
       "    <tr>\n",
       "      <th>295</th>\n",
       "      <td>8.0</td>\n",
       "      <td>Manx</td>\n",
       "      <td>2006-01-06 11:52:45</td>\n",
       "      <td>0.878575</td>\n",
       "      <td>26.812670</td>\n",
       "      <td>14</td>\n",
       "      <td>1.0</td>\n",
       "    </tr>\n",
       "    <tr>\n",
       "      <th>296</th>\n",
       "      <td>8.0</td>\n",
       "      <td>Manx</td>\n",
       "      <td>1997-10-24 15:06:57</td>\n",
       "      <td>1.041003</td>\n",
       "      <td>16.920258</td>\n",
       "      <td>5</td>\n",
       "      <td>4.0</td>\n",
       "    </tr>\n",
       "    <tr>\n",
       "      <th>297</th>\n",
       "      <td>7.0</td>\n",
       "      <td>Maine Coon</td>\n",
       "      <td>2008-06-06 21:09:50</td>\n",
       "      <td>1.053361</td>\n",
       "      <td>14.106118</td>\n",
       "      <td>9</td>\n",
       "      <td>3.0</td>\n",
       "    </tr>\n",
       "    <tr>\n",
       "      <th>298</th>\n",
       "      <td>15.0</td>\n",
       "      <td>Maine Coon</td>\n",
       "      <td>1999-09-19 20:19:43</td>\n",
       "      <td>1.063393</td>\n",
       "      <td>12.210901</td>\n",
       "      <td>10</td>\n",
       "      <td>2.0</td>\n",
       "    </tr>\n",
       "    <tr>\n",
       "      <th>299</th>\n",
       "      <td>11.0</td>\n",
       "      <td>Rex</td>\n",
       "      <td>2012-06-06 10:07:47</td>\n",
       "      <td>1.203201</td>\n",
       "      <td>17.474170</td>\n",
       "      <td>9</td>\n",
       "      <td>4.0</td>\n",
       "    </tr>\n",
       "  </tbody>\n",
       "</table>\n",
       "<p>300 rows × 7 columns</p>\n",
       "</div>"
      ],
      "text/plain": [
       "     age at death       breed date of last vet visit  hair length     height  \\\n",
       "0             7.0     Siamese    2009-08-02 14:02:18     0.883886  21.611951   \n",
       "1             9.0     Siamese    2013-11-27 19:08:52     1.221535  26.451956   \n",
       "2             8.0        Manx    2016-01-12 04:39:24     0.967718  18.540191   \n",
       "3             8.0  Maine Coon    2000-11-24 18:51:18     1.090641  16.564362   \n",
       "4             8.0  Maine Coon    2014-07-03 22:17:26     1.004712  22.535495   \n",
       "..            ...         ...                    ...          ...        ...   \n",
       "295           8.0        Manx    2006-01-06 11:52:45     0.878575  26.812670   \n",
       "296           8.0        Manx    1997-10-24 15:06:57     1.041003  16.920258   \n",
       "297           7.0  Maine Coon    2008-06-06 21:09:50     1.053361  14.106118   \n",
       "298          15.0  Maine Coon    1999-09-19 20:19:43     1.063393  12.210901   \n",
       "299          11.0         Rex    2012-06-06 10:07:47     1.203201  17.474170   \n",
       "\n",
       "     number of vet visits  weight  \n",
       "0                       5     4.0  \n",
       "1                      10     4.0  \n",
       "2                      10     5.0  \n",
       "3                      12     7.0  \n",
       "4                       7     7.0  \n",
       "..                    ...     ...  \n",
       "295                    14     1.0  \n",
       "296                     5     4.0  \n",
       "297                     9     3.0  \n",
       "298                    10     2.0  \n",
       "299                     9     4.0  \n",
       "\n",
       "[300 rows x 7 columns]"
      ]
     },
     "execution_count": 3,
     "metadata": {},
     "output_type": "execute_result"
    }
   ],
   "source": [
    "df"
   ]
  },
  {
   "cell_type": "markdown",
   "metadata": {},
   "source": [
    "    General overall view of the dataset"
   ]
  },
  {
   "cell_type": "code",
   "execution_count": 4,
   "metadata": {},
   "outputs": [
    {
     "name": "stdout",
     "output_type": "stream",
     "text": [
      "Rows     :  300\n",
      "Columns  :  7\n",
      "\n",
      "Features :  ['age at death', 'breed', 'date of last vet visit', 'hair length', 'height', 'number of vet visits', 'weight']\n",
      "\n",
      "Missing values :   2\n",
      "\n",
      "Unique values :  \n",
      " age at death               18\n",
      "breed                       6\n",
      "date of last vet visit    300\n",
      "hair length               299\n",
      "height                    300\n",
      "number of vet visits       21\n",
      "weight                     12\n",
      "dtype: int64\n",
      "<class 'pandas.core.frame.DataFrame'>\n",
      "Int64Index: 300 entries, 0 to 299\n",
      "Data columns (total 7 columns):\n",
      " #   Column                  Non-Null Count  Dtype  \n",
      "---  ------                  --------------  -----  \n",
      " 0   age at death            299 non-null    float64\n",
      " 1   breed                   300 non-null    object \n",
      " 2   date of last vet visit  300 non-null    object \n",
      " 3   hair length             299 non-null    float64\n",
      " 4   height                  300 non-null    float64\n",
      " 5   number of vet visits    300 non-null    int64  \n",
      " 6   weight                  300 non-null    float64\n",
      "dtypes: float64(4), int64(1), object(2)\n",
      "memory usage: 18.8+ KB\n"
     ]
    },
    {
     "data": {
      "text/plain": [
       "age at death              1\n",
       "breed                     0\n",
       "date of last vet visit    0\n",
       "hair length               1\n",
       "height                    0\n",
       "number of vet visits      0\n",
       "weight                    0\n",
       "dtype: int64"
      ]
     },
     "execution_count": 4,
     "metadata": {},
     "output_type": "execute_result"
    }
   ],
   "source": [
    "# data overview\n",
    "print ('Rows     : ', df.shape[0])\n",
    "print ('Columns  : ', df.shape[1])\n",
    "print ('\\nFeatures : ', df.columns.tolist())\n",
    "print ('\\nMissing values :  ', df.isnull().sum().values.sum())\n",
    "print ('\\nUnique values :  \\n', df.nunique())\n",
    "\n",
    "df.info()\n",
    "df.isnull().sum()"
   ]
  },
  {
   "cell_type": "markdown",
   "metadata": {},
   "source": [
    "**Data Prepocessing**"
   ]
  },
  {
   "cell_type": "markdown",
   "metadata": {},
   "source": [
    "    we can see two columns have missing values. lets do a quick data technique for filling them."
   ]
  },
  {
   "cell_type": "code",
   "execution_count": 5,
   "metadata": {},
   "outputs": [],
   "source": [
    "# Converting the feature names to standard format for further processing\n",
    "orig_cols = list(df.columns) \n",
    "new_cols = [] \n",
    "for col in orig_cols:     \n",
    "    new_cols.append(col.strip().replace('  ', ' ').replace(' ', '_').lower()) \n",
    "\n",
    "df.columns = new_cols\n",
    "\n"
   ]
  },
  {
   "cell_type": "code",
   "execution_count": 6,
   "metadata": {},
   "outputs": [
    {
     "data": {
      "text/html": [
       "<div>\n",
       "<style scoped>\n",
       "    .dataframe tbody tr th:only-of-type {\n",
       "        vertical-align: middle;\n",
       "    }\n",
       "\n",
       "    .dataframe tbody tr th {\n",
       "        vertical-align: top;\n",
       "    }\n",
       "\n",
       "    .dataframe thead th {\n",
       "        text-align: right;\n",
       "    }\n",
       "</style>\n",
       "<table border=\"1\" class=\"dataframe\">\n",
       "  <thead>\n",
       "    <tr style=\"text-align: right;\">\n",
       "      <th></th>\n",
       "      <th>age_at_death</th>\n",
       "      <th>hair_length</th>\n",
       "      <th>height</th>\n",
       "      <th>number_of_vet_visits</th>\n",
       "      <th>weight</th>\n",
       "    </tr>\n",
       "  </thead>\n",
       "  <tbody>\n",
       "    <tr>\n",
       "      <th>count</th>\n",
       "      <td>299.000000</td>\n",
       "      <td>2.990000e+02</td>\n",
       "      <td>300.000000</td>\n",
       "      <td>300.000000</td>\n",
       "      <td>300.000000</td>\n",
       "    </tr>\n",
       "    <tr>\n",
       "      <th>mean</th>\n",
       "      <td>9.006689</td>\n",
       "      <td>3.027706e+09</td>\n",
       "      <td>20.498442</td>\n",
       "      <td>8.296667</td>\n",
       "      <td>3.957667</td>\n",
       "    </tr>\n",
       "    <tr>\n",
       "      <th>std</th>\n",
       "      <td>2.892937</td>\n",
       "      <td>5.235392e+10</td>\n",
       "      <td>5.107386</td>\n",
       "      <td>3.820643</td>\n",
       "      <td>2.033624</td>\n",
       "    </tr>\n",
       "    <tr>\n",
       "      <th>min</th>\n",
       "      <td>0.000000</td>\n",
       "      <td>6.904537e-01</td>\n",
       "      <td>5.077179</td>\n",
       "      <td>-1.000000</td>\n",
       "      <td>0.000000</td>\n",
       "    </tr>\n",
       "    <tr>\n",
       "      <th>25%</th>\n",
       "      <td>7.000000</td>\n",
       "      <td>9.377535e-01</td>\n",
       "      <td>16.958241</td>\n",
       "      <td>6.000000</td>\n",
       "      <td>2.000000</td>\n",
       "    </tr>\n",
       "    <tr>\n",
       "      <th>50%</th>\n",
       "      <td>9.000000</td>\n",
       "      <td>1.003253e+00</td>\n",
       "      <td>20.825805</td>\n",
       "      <td>8.000000</td>\n",
       "      <td>4.000000</td>\n",
       "    </tr>\n",
       "    <tr>\n",
       "      <th>75%</th>\n",
       "      <td>11.000000</td>\n",
       "      <td>1.067127e+00</td>\n",
       "      <td>24.043067</td>\n",
       "      <td>11.000000</td>\n",
       "      <td>5.250000</td>\n",
       "    </tr>\n",
       "    <tr>\n",
       "      <th>max</th>\n",
       "      <td>18.000000</td>\n",
       "      <td>9.052840e+11</td>\n",
       "      <td>33.043014</td>\n",
       "      <td>19.000000</td>\n",
       "      <td>10.000000</td>\n",
       "    </tr>\n",
       "  </tbody>\n",
       "</table>\n",
       "</div>"
      ],
      "text/plain": [
       "       age_at_death   hair_length      height  number_of_vet_visits  \\\n",
       "count    299.000000  2.990000e+02  300.000000            300.000000   \n",
       "mean       9.006689  3.027706e+09   20.498442              8.296667   \n",
       "std        2.892937  5.235392e+10    5.107386              3.820643   \n",
       "min        0.000000  6.904537e-01    5.077179             -1.000000   \n",
       "25%        7.000000  9.377535e-01   16.958241              6.000000   \n",
       "50%        9.000000  1.003253e+00   20.825805              8.000000   \n",
       "75%       11.000000  1.067127e+00   24.043067             11.000000   \n",
       "max       18.000000  9.052840e+11   33.043014             19.000000   \n",
       "\n",
       "           weight  \n",
       "count  300.000000  \n",
       "mean     3.957667  \n",
       "std      2.033624  \n",
       "min      0.000000  \n",
       "25%      2.000000  \n",
       "50%      4.000000  \n",
       "75%      5.250000  \n",
       "max     10.000000  "
      ]
     },
     "execution_count": 6,
     "metadata": {},
     "output_type": "execute_result"
    }
   ],
   "source": [
    "df.describe()"
   ]
  },
  {
   "cell_type": "markdown",
   "metadata": {},
   "source": [
    "    The above describe() function shows us some info that needs to be fixed in the dataset before any data analysis.\n",
    "    1. Fill missing values using mean/mode inputers\n",
    "    2. number_vet_visits cannot be -1 \n",
    "    3. weight cannot be 0 for any cat\n",
    "\n",
    "    The above issues can be fixed using filling values with mean/mode distributioon depending on the data distribution."
   ]
  },
  {
   "cell_type": "markdown",
   "metadata": {},
   "source": [
    "    Outliers are unusual values in your dataset, and they can distort statistical analyses and violate their assumptions.Outliers increase the variability in your data, which decreases statistical power. Consequently, excluding outliers can cause your results to become statistically significant."
   ]
  },
  {
   "cell_type": "code",
   "execution_count": 7,
   "metadata": {},
   "outputs": [
    {
     "data": {
      "text/plain": [
       "(290, 7)"
      ]
     },
     "execution_count": 7,
     "metadata": {},
     "output_type": "execute_result"
    }
   ],
   "source": [
    "\n",
    "# Remove the outliers using the interquartile range (IQR).\n",
    "Q1 = df.quantile(0.25)\n",
    "Q3 = df.quantile(0.75)\n",
    "IQR = Q3 - Q1\n",
    "\n",
    "df = df[~((df < (Q1 - 1.5 * IQR)) |(df > (Q3 + 1.5 * IQR))).any(axis=1)]\n",
    "\n",
    "\n",
    "\n",
    "# Print the dimensions of the cleaned dataset.\n",
    "df.shape"
   ]
  },
  {
   "cell_type": "markdown",
   "metadata": {},
   "source": [
    "    Visualising data feature distribution to get an overall view\n",
    "    Box plots gives us the data distibution of individual features"
   ]
  },
  {
   "cell_type": "code",
   "execution_count": 8,
   "metadata": {},
   "outputs": [
    {
     "data": {
      "text/plain": [
       "<matplotlib.axes._subplots.AxesSubplot at 0x7fe06ba58250>"
      ]
     },
     "execution_count": 8,
     "metadata": {},
     "output_type": "execute_result"
    },
    {
     "data": {
      "image/png": "[encoded data removed]",
      "text/plain": [
       "<Figure size 432x288 with 1 Axes>"
      ]
     },
     "metadata": {
      "needs_background": "light"
     },
     "output_type": "display_data"
    }
   ],
   "source": [
    "sns.boxplot(df.age_at_death)"
   ]
  },
  {
   "cell_type": "markdown",
   "metadata": {},
   "source": [
    "    For symmetric data distribution, we can use the mean value for inputing missing/incorrect values.\n",
    "    \n",
    "    Similar process will be carried out for other features as well"
   ]
  },
  {
   "cell_type": "code",
   "execution_count": 9,
   "metadata": {},
   "outputs": [],
   "source": [
    "df['age_at_death'].fillna(value=df['age_at_death'].mean(), inplace=True)"
   ]
  },
  {
   "cell_type": "code",
   "execution_count": 10,
   "metadata": {},
   "outputs": [
    {
     "data": {
      "text/plain": [
       "<matplotlib.axes._subplots.AxesSubplot at 0x7fe06bc17dd0>"
      ]
     },
     "execution_count": 10,
     "metadata": {},
     "output_type": "execute_result"
    },
    {
     "data": {
      "image/png": "[encoded data removed]",
      "text/plain": [
       "<Figure size 432x288 with 1 Axes>"
      ]
     },
     "metadata": {
      "needs_background": "light"
     },
     "output_type": "display_data"
    }
   ],
   "source": [
    "sns.boxplot(df.hair_length)"
   ]
  },
  {
   "cell_type": "markdown",
   "metadata": {},
   "source": [
    "    When the data is skewed, it is good to consider using mode values for replacing the missing values"
   ]
  },
  {
   "cell_type": "code",
   "execution_count": 11,
   "metadata": {},
   "outputs": [],
   "source": [
    "df['hair_length'] = df['hair_length'].fillna(df['hair_length'].mode()[0])"
   ]
  },
  {
   "cell_type": "markdown",
   "metadata": {},
   "source": [
    "    Final check to confirm if the data is clean for further analysis"
   ]
  },
  {
   "cell_type": "code",
   "execution_count": 12,
   "metadata": {},
   "outputs": [
    {
     "name": "stdout",
     "output_type": "stream",
     "text": [
      "<class 'pandas.core.frame.DataFrame'>\n",
      "Int64Index: 290 entries, 0 to 299\n",
      "Data columns (total 7 columns):\n",
      " #   Column                  Non-Null Count  Dtype  \n",
      "---  ------                  --------------  -----  \n",
      " 0   age_at_death            290 non-null    float64\n",
      " 1   breed                   290 non-null    object \n",
      " 2   date_of_last_vet_visit  290 non-null    object \n",
      " 3   hair_length             290 non-null    float64\n",
      " 4   height                  290 non-null    float64\n",
      " 5   number_of_vet_visits    290 non-null    int64  \n",
      " 6   weight                  290 non-null    float64\n",
      "dtypes: float64(4), int64(1), object(2)\n",
      "memory usage: 18.1+ KB\n"
     ]
    },
    {
     "data": {
      "text/plain": [
       "age_at_death              0\n",
       "breed                     0\n",
       "date_of_last_vet_visit    0\n",
       "hair_length               0\n",
       "height                    0\n",
       "number_of_vet_visits      0\n",
       "weight                    0\n",
       "dtype: int64"
      ]
     },
     "execution_count": 12,
     "metadata": {},
     "output_type": "execute_result"
    }
   ],
   "source": [
    "df.info()\n",
    "df.isnull().sum()"
   ]
  },
  {
   "cell_type": "code",
   "execution_count": 13,
   "metadata": {},
   "outputs": [
    {
     "data": {
      "text/plain": [
       "<matplotlib.axes._subplots.AxesSubplot at 0x7fe06bcf0910>"
      ]
     },
     "execution_count": 13,
     "metadata": {},
     "output_type": "execute_result"
    },
    {
     "data": {
      "image/png": "[encoded data removed]",
      "text/plain": [
       "<Figure size 432x288 with 1 Axes>"
      ]
     },
     "metadata": {
      "needs_background": "light"
     },
     "output_type": "display_data"
    }
   ],
   "source": [
    "sns.boxplot(df.number_of_vet_visits)"
   ]
  },
  {
   "cell_type": "markdown",
   "metadata": {},
   "source": [
    "    no# of vet visits cannot be -1 because last visit date provided the neccessary details\n",
    "    so assigning mean column in place of -1"
   ]
  },
  {
   "cell_type": "code",
   "execution_count": 14,
   "metadata": {},
   "outputs": [],
   "source": [
    "df[\"number_of_vet_visits\"].replace({-1: (df['number_of_vet_visits'].mean()), 0: (df['number_of_vet_visits'].mean())}, inplace=True)\n"
   ]
  },
  {
   "cell_type": "code",
   "execution_count": 15,
   "metadata": {},
   "outputs": [
    {
     "data": {
      "text/plain": [
       "<matplotlib.axes._subplots.AxesSubplot at 0x7fe06bdcef90>"
      ]
     },
     "execution_count": 15,
     "metadata": {},
     "output_type": "execute_result"
    },
    {
     "data": {
      "image/png": "[encoded data removed]",
      "text/plain": [
       "<Figure size 432x288 with 1 Axes>"
      ]
     },
     "metadata": {
      "needs_background": "light"
     },
     "output_type": "display_data"
    }
   ],
   "source": [
    "sns.boxplot(df.weight)"
   ]
  },
  {
   "cell_type": "markdown",
   "metadata": {},
   "source": [
    "    weight cannot be 0 for a cat, especially when its old. So filling them with mode value as the data is skewed"
   ]
  },
  {
   "cell_type": "code",
   "execution_count": 16,
   "metadata": {},
   "outputs": [],
   "source": [
    "df[\"weight\"].replace({0: (df['weight'].mean())}, inplace=True)\n"
   ]
  },
  {
   "cell_type": "code",
   "execution_count": 17,
   "metadata": {},
   "outputs": [
    {
     "data": {
      "text/html": [
       "<div>\n",
       "<style scoped>\n",
       "    .dataframe tbody tr th:only-of-type {\n",
       "        vertical-align: middle;\n",
       "    }\n",
       "\n",
       "    .dataframe tbody tr th {\n",
       "        vertical-align: top;\n",
       "    }\n",
       "\n",
       "    .dataframe thead th {\n",
       "        text-align: right;\n",
       "    }\n",
       "</style>\n",
       "<table border=\"1\" class=\"dataframe\">\n",
       "  <thead>\n",
       "    <tr style=\"text-align: right;\">\n",
       "      <th></th>\n",
       "      <th>age_at_death</th>\n",
       "      <th>hair_length</th>\n",
       "      <th>height</th>\n",
       "      <th>number_of_vet_visits</th>\n",
       "      <th>weight</th>\n",
       "    </tr>\n",
       "  </thead>\n",
       "  <tbody>\n",
       "    <tr>\n",
       "      <th>count</th>\n",
       "      <td>290.000000</td>\n",
       "      <td>290.000000</td>\n",
       "      <td>290.000000</td>\n",
       "      <td>290.000000</td>\n",
       "      <td>290.000000</td>\n",
       "    </tr>\n",
       "    <tr>\n",
       "      <th>mean</th>\n",
       "      <td>9.020761</td>\n",
       "      <td>1.005056</td>\n",
       "      <td>20.658652</td>\n",
       "      <td>8.489703</td>\n",
       "      <td>4.103329</td>\n",
       "    </tr>\n",
       "    <tr>\n",
       "      <th>std</th>\n",
       "      <td>2.732526</td>\n",
       "      <td>0.097253</td>\n",
       "      <td>4.997634</td>\n",
       "      <td>3.499363</td>\n",
       "      <td>1.897918</td>\n",
       "    </tr>\n",
       "    <tr>\n",
       "      <th>min</th>\n",
       "      <td>2.000000</td>\n",
       "      <td>0.753671</td>\n",
       "      <td>6.719702</td>\n",
       "      <td>1.000000</td>\n",
       "      <td>1.000000</td>\n",
       "    </tr>\n",
       "    <tr>\n",
       "      <th>25%</th>\n",
       "      <td>7.000000</td>\n",
       "      <td>0.938083</td>\n",
       "      <td>17.027839</td>\n",
       "      <td>6.000000</td>\n",
       "      <td>3.000000</td>\n",
       "    </tr>\n",
       "    <tr>\n",
       "      <th>50%</th>\n",
       "      <td>9.000000</td>\n",
       "      <td>1.004265</td>\n",
       "      <td>20.885836</td>\n",
       "      <td>8.000000</td>\n",
       "      <td>4.000000</td>\n",
       "    </tr>\n",
       "    <tr>\n",
       "      <th>75%</th>\n",
       "      <td>11.000000</td>\n",
       "      <td>1.067898</td>\n",
       "      <td>24.185278</td>\n",
       "      <td>11.000000</td>\n",
       "      <td>5.750000</td>\n",
       "    </tr>\n",
       "    <tr>\n",
       "      <th>max</th>\n",
       "      <td>17.000000</td>\n",
       "      <td>1.238662</td>\n",
       "      <td>33.043014</td>\n",
       "      <td>18.000000</td>\n",
       "      <td>10.000000</td>\n",
       "    </tr>\n",
       "  </tbody>\n",
       "</table>\n",
       "</div>"
      ],
      "text/plain": [
       "       age_at_death  hair_length      height  number_of_vet_visits      weight\n",
       "count    290.000000   290.000000  290.000000            290.000000  290.000000\n",
       "mean       9.020761     1.005056   20.658652              8.489703    4.103329\n",
       "std        2.732526     0.097253    4.997634              3.499363    1.897918\n",
       "min        2.000000     0.753671    6.719702              1.000000    1.000000\n",
       "25%        7.000000     0.938083   17.027839              6.000000    3.000000\n",
       "50%        9.000000     1.004265   20.885836              8.000000    4.000000\n",
       "75%       11.000000     1.067898   24.185278             11.000000    5.750000\n",
       "max       17.000000     1.238662   33.043014             18.000000   10.000000"
      ]
     },
     "execution_count": 17,
     "metadata": {},
     "output_type": "execute_result"
    }
   ],
   "source": [
    "df.describe()"
   ]
  },
  {
   "cell_type": "code",
   "execution_count": 18,
   "metadata": {},
   "outputs": [
    {
     "data": {
      "text/plain": [
       "age_at_death              float64\n",
       "breed                      object\n",
       "date_of_last_vet_visit     object\n",
       "hair_length               float64\n",
       "height                    float64\n",
       "number_of_vet_visits      float64\n",
       "weight                    float64\n",
       "dtype: object"
      ]
     },
     "execution_count": 18,
     "metadata": {},
     "output_type": "execute_result"
    }
   ],
   "source": [
    "# analysing the data types of features\n",
    "df.dtypes"
   ]
  },
  {
   "cell_type": "code",
   "execution_count": 19,
   "metadata": {},
   "outputs": [],
   "source": [
    "# Discard the metadata (breed, vet visits).\n",
    "df = df.drop(['breed' ,'date_of_last_vet_visit'], axis=1)"
   ]
  },
  {
   "cell_type": "code",
   "execution_count": 20,
   "metadata": {},
   "outputs": [
    {
     "data": {
      "text/html": [
       "<div>\n",
       "<style scoped>\n",
       "    .dataframe tbody tr th:only-of-type {\n",
       "        vertical-align: middle;\n",
       "    }\n",
       "\n",
       "    .dataframe tbody tr th {\n",
       "        vertical-align: top;\n",
       "    }\n",
       "\n",
       "    .dataframe thead th {\n",
       "        text-align: right;\n",
       "    }\n",
       "</style>\n",
       "<table border=\"1\" class=\"dataframe\">\n",
       "  <thead>\n",
       "    <tr style=\"text-align: right;\">\n",
       "      <th></th>\n",
       "      <th>age_at_death</th>\n",
       "      <th>hair_length</th>\n",
       "      <th>height</th>\n",
       "      <th>number_of_vet_visits</th>\n",
       "      <th>weight</th>\n",
       "    </tr>\n",
       "  </thead>\n",
       "  <tbody>\n",
       "    <tr>\n",
       "      <th>0</th>\n",
       "      <td>7.0</td>\n",
       "      <td>0.883886</td>\n",
       "      <td>21.611951</td>\n",
       "      <td>5.0</td>\n",
       "      <td>4.0</td>\n",
       "    </tr>\n",
       "    <tr>\n",
       "      <th>1</th>\n",
       "      <td>9.0</td>\n",
       "      <td>1.221535</td>\n",
       "      <td>26.451956</td>\n",
       "      <td>10.0</td>\n",
       "      <td>4.0</td>\n",
       "    </tr>\n",
       "    <tr>\n",
       "      <th>2</th>\n",
       "      <td>8.0</td>\n",
       "      <td>0.967718</td>\n",
       "      <td>18.540191</td>\n",
       "      <td>10.0</td>\n",
       "      <td>5.0</td>\n",
       "    </tr>\n",
       "    <tr>\n",
       "      <th>3</th>\n",
       "      <td>8.0</td>\n",
       "      <td>1.090641</td>\n",
       "      <td>16.564362</td>\n",
       "      <td>12.0</td>\n",
       "      <td>7.0</td>\n",
       "    </tr>\n",
       "    <tr>\n",
       "      <th>4</th>\n",
       "      <td>8.0</td>\n",
       "      <td>1.004712</td>\n",
       "      <td>22.535495</td>\n",
       "      <td>7.0</td>\n",
       "      <td>7.0</td>\n",
       "    </tr>\n",
       "    <tr>\n",
       "      <th>...</th>\n",
       "      <td>...</td>\n",
       "      <td>...</td>\n",
       "      <td>...</td>\n",
       "      <td>...</td>\n",
       "      <td>...</td>\n",
       "    </tr>\n",
       "    <tr>\n",
       "      <th>295</th>\n",
       "      <td>8.0</td>\n",
       "      <td>0.878575</td>\n",
       "      <td>26.812670</td>\n",
       "      <td>14.0</td>\n",
       "      <td>1.0</td>\n",
       "    </tr>\n",
       "    <tr>\n",
       "      <th>296</th>\n",
       "      <td>8.0</td>\n",
       "      <td>1.041003</td>\n",
       "      <td>16.920258</td>\n",
       "      <td>5.0</td>\n",
       "      <td>4.0</td>\n",
       "    </tr>\n",
       "    <tr>\n",
       "      <th>297</th>\n",
       "      <td>7.0</td>\n",
       "      <td>1.053361</td>\n",
       "      <td>14.106118</td>\n",
       "      <td>9.0</td>\n",
       "      <td>3.0</td>\n",
       "    </tr>\n",
       "    <tr>\n",
       "      <th>298</th>\n",
       "      <td>15.0</td>\n",
       "      <td>1.063393</td>\n",
       "      <td>12.210901</td>\n",
       "      <td>10.0</td>\n",
       "      <td>2.0</td>\n",
       "    </tr>\n",
       "    <tr>\n",
       "      <th>299</th>\n",
       "      <td>11.0</td>\n",
       "      <td>1.203201</td>\n",
       "      <td>17.474170</td>\n",
       "      <td>9.0</td>\n",
       "      <td>4.0</td>\n",
       "    </tr>\n",
       "  </tbody>\n",
       "</table>\n",
       "<p>290 rows × 5 columns</p>\n",
       "</div>"
      ],
      "text/plain": [
       "     age_at_death  hair_length     height  number_of_vet_visits  weight\n",
       "0             7.0     0.883886  21.611951                   5.0     4.0\n",
       "1             9.0     1.221535  26.451956                  10.0     4.0\n",
       "2             8.0     0.967718  18.540191                  10.0     5.0\n",
       "3             8.0     1.090641  16.564362                  12.0     7.0\n",
       "4             8.0     1.004712  22.535495                   7.0     7.0\n",
       "..            ...          ...        ...                   ...     ...\n",
       "295           8.0     0.878575  26.812670                  14.0     1.0\n",
       "296           8.0     1.041003  16.920258                   5.0     4.0\n",
       "297           7.0     1.053361  14.106118                   9.0     3.0\n",
       "298          15.0     1.063393  12.210901                  10.0     2.0\n",
       "299          11.0     1.203201  17.474170                   9.0     4.0\n",
       "\n",
       "[290 rows x 5 columns]"
      ]
     },
     "execution_count": 20,
     "metadata": {},
     "output_type": "execute_result"
    }
   ],
   "source": [
    "df"
   ]
  },
  {
   "cell_type": "markdown",
   "metadata": {},
   "source": [
    "**Data Exploration**"
   ]
  },
  {
   "cell_type": "code",
   "execution_count": 21,
   "metadata": {},
   "outputs": [
    {
     "data": {
      "image/png": "[encoded data removed]",
      "text/plain": [
       "<Figure size 1296x2160 with 5 Axes>"
      ]
     },
     "metadata": {
      "needs_background": "light"
     },
     "output_type": "display_data"
    },
    {
     "data": {
      "text/plain": [
       "(290, 5)"
      ]
     },
     "execution_count": 21,
     "metadata": {},
     "output_type": "execute_result"
    }
   ],
   "source": [
    "# creating box plots\n",
    "\n",
    "# Create a dictionary of columns representing the features of the dataset.\n",
    "col_dict = {'age_at_death':1,'hair_length':2,'height':3,'number_of_vet_visits':4,'weight':5}\n",
    "\n",
    "# Visualize the data for each feature using box plots.\n",
    "plt.figure(figsize=(18,30))\n",
    "\n",
    "for variable,i in col_dict.items():\n",
    "                     plt.subplot(5,4,i)\n",
    "                     plt.boxplot(df[variable],whis=1.5)\n",
    "                     plt.title(variable)\n",
    "\n",
    "plt.show()\n",
    "df.shape"
   ]
  },
  {
   "cell_type": "markdown",
   "metadata": {},
   "source": [
    "    A heatmap is a graphical representation where individual values of a matrix are represented as colors. A heatmap is very useful in visualizing the concentration of values between two dimensions of a matrix. This helps in finding patterns and gives a perspective of depth."
   ]
  },
  {
   "cell_type": "code",
   "execution_count": 22,
   "metadata": {},
   "outputs": [
    {
     "data": {
      "image/png": "[encoded data removed]",
      "text/plain": [
       "<Figure size 720x576 with 2 Axes>"
      ]
     },
     "metadata": {
      "needs_background": "light"
     },
     "output_type": "display_data"
    }
   ],
   "source": [
    "# Plot heatmap to visualize the correlations.\n",
    "plt.figure(figsize = (10, 8))\n",
    "# sns.heatmap(df.corr(), annot = True)\n",
    "sns.heatmap(df.corr(), cmap=\"seismic\", annot=True, vmin=-1, vmax=1)\n",
    "plt.title('Correlation between different features');"
   ]
  },
  {
   "cell_type": "markdown",
   "metadata": {},
   "source": [
    "    Since the no. of samples is less in the dataset, there seems to be less correlation between features \n"
   ]
  },
  {
   "cell_type": "markdown",
   "metadata": {},
   "source": [
    "    Scatter plots' primary uses are to observe and show relationships between two numeric variables. Relationships between variables can be described in many ways: positive or negative, strong or weak, linear or nonlinear. A scatter plot can also be useful for identifying other patterns in data."
   ]
  },
  {
   "cell_type": "code",
   "execution_count": 23,
   "metadata": {},
   "outputs": [
    {
     "data": {
      "image/png": "[encoded data removed]",
      "text/plain": [
       "<Figure size 1080x2160 with 4 Axes>"
      ]
     },
     "metadata": {
      "needs_background": "light"
     },
     "output_type": "display_data"
    }
   ],
   "source": [
    "\n",
    "# Create a vector containing all the features of the dataset.\n",
    "all_col = ['hair_length','height','number_of_vet_visits','weight']\n",
    "\n",
    "plt.figure(figsize=(15,30))\n",
    "\n",
    "# Plot each feature in function of the target variable (age_at_death) using scatter plots.\n",
    "for i in range(len(all_col)):\n",
    "    plt.subplot(7,3,i+1)\n",
    "    plt.scatter(df[all_col[i]], df['age_at_death'])\n",
    "    plt.xlabel(all_col[i])\n",
    "    plt.ylabel('age_at_death')\n",
    "\n",
    "plt.show()"
   ]
  },
  {
   "cell_type": "markdown",
   "metadata": {},
   "source": [
    "There is no evidence of any tight corelation in data, porobably the sample size could be an issue.(random scatter of the points)"
   ]
  },
  {
   "cell_type": "markdown",
   "metadata": {},
   "source": [
    "**Data Analysis**"
   ]
  },
  {
   "cell_type": "code",
   "execution_count": 24,
   "metadata": {},
   "outputs": [],
   "source": [
    "df_copy = df.copy()"
   ]
  },
  {
   "cell_type": "code",
   "execution_count": 25,
   "metadata": {},
   "outputs": [
    {
     "data": {
      "text/html": [
       "<div>\n",
       "<style scoped>\n",
       "    .dataframe tbody tr th:only-of-type {\n",
       "        vertical-align: middle;\n",
       "    }\n",
       "\n",
       "    .dataframe tbody tr th {\n",
       "        vertical-align: top;\n",
       "    }\n",
       "\n",
       "    .dataframe thead th {\n",
       "        text-align: right;\n",
       "    }\n",
       "</style>\n",
       "<table border=\"1\" class=\"dataframe\">\n",
       "  <thead>\n",
       "    <tr style=\"text-align: right;\">\n",
       "      <th></th>\n",
       "      <th>hair_length</th>\n",
       "      <th>height</th>\n",
       "      <th>number_of_vet_visits</th>\n",
       "      <th>weight</th>\n",
       "    </tr>\n",
       "  </thead>\n",
       "  <tbody>\n",
       "    <tr>\n",
       "      <th>0</th>\n",
       "      <td>0.883886</td>\n",
       "      <td>21.611951</td>\n",
       "      <td>5.0</td>\n",
       "      <td>4.0</td>\n",
       "    </tr>\n",
       "    <tr>\n",
       "      <th>1</th>\n",
       "      <td>1.221535</td>\n",
       "      <td>26.451956</td>\n",
       "      <td>10.0</td>\n",
       "      <td>4.0</td>\n",
       "    </tr>\n",
       "    <tr>\n",
       "      <th>2</th>\n",
       "      <td>0.967718</td>\n",
       "      <td>18.540191</td>\n",
       "      <td>10.0</td>\n",
       "      <td>5.0</td>\n",
       "    </tr>\n",
       "    <tr>\n",
       "      <th>3</th>\n",
       "      <td>1.090641</td>\n",
       "      <td>16.564362</td>\n",
       "      <td>12.0</td>\n",
       "      <td>7.0</td>\n",
       "    </tr>\n",
       "    <tr>\n",
       "      <th>4</th>\n",
       "      <td>1.004712</td>\n",
       "      <td>22.535495</td>\n",
       "      <td>7.0</td>\n",
       "      <td>7.0</td>\n",
       "    </tr>\n",
       "    <tr>\n",
       "      <th>...</th>\n",
       "      <td>...</td>\n",
       "      <td>...</td>\n",
       "      <td>...</td>\n",
       "      <td>...</td>\n",
       "    </tr>\n",
       "    <tr>\n",
       "      <th>295</th>\n",
       "      <td>0.878575</td>\n",
       "      <td>26.812670</td>\n",
       "      <td>14.0</td>\n",
       "      <td>1.0</td>\n",
       "    </tr>\n",
       "    <tr>\n",
       "      <th>296</th>\n",
       "      <td>1.041003</td>\n",
       "      <td>16.920258</td>\n",
       "      <td>5.0</td>\n",
       "      <td>4.0</td>\n",
       "    </tr>\n",
       "    <tr>\n",
       "      <th>297</th>\n",
       "      <td>1.053361</td>\n",
       "      <td>14.106118</td>\n",
       "      <td>9.0</td>\n",
       "      <td>3.0</td>\n",
       "    </tr>\n",
       "    <tr>\n",
       "      <th>298</th>\n",
       "      <td>1.063393</td>\n",
       "      <td>12.210901</td>\n",
       "      <td>10.0</td>\n",
       "      <td>2.0</td>\n",
       "    </tr>\n",
       "    <tr>\n",
       "      <th>299</th>\n",
       "      <td>1.203201</td>\n",
       "      <td>17.474170</td>\n",
       "      <td>9.0</td>\n",
       "      <td>4.0</td>\n",
       "    </tr>\n",
       "  </tbody>\n",
       "</table>\n",
       "<p>290 rows × 4 columns</p>\n",
       "</div>"
      ],
      "text/plain": [
       "     hair_length     height  number_of_vet_visits  weight\n",
       "0       0.883886  21.611951                   5.0     4.0\n",
       "1       1.221535  26.451956                  10.0     4.0\n",
       "2       0.967718  18.540191                  10.0     5.0\n",
       "3       1.090641  16.564362                  12.0     7.0\n",
       "4       1.004712  22.535495                   7.0     7.0\n",
       "..           ...        ...                   ...     ...\n",
       "295     0.878575  26.812670                  14.0     1.0\n",
       "296     1.041003  16.920258                   5.0     4.0\n",
       "297     1.053361  14.106118                   9.0     3.0\n",
       "298     1.063393  12.210901                  10.0     2.0\n",
       "299     1.203201  17.474170                   9.0     4.0\n",
       "\n",
       "[290 rows x 4 columns]"
      ]
     },
     "execution_count": 25,
     "metadata": {},
     "output_type": "execute_result"
    }
   ],
   "source": [
    "# Y label of the model will be age_at_death column. So we seperate it from the dataframe.\n",
    "y = df['age_at_death']\n",
    "df = df.drop(labels='age_at_death', axis=1)\n",
    "df"
   ]
  },
  {
   "cell_type": "code",
   "execution_count": 26,
   "metadata": {},
   "outputs": [
    {
     "data": {
      "text/plain": [
       "array([ 7.        ,  9.        ,  8.        ,  8.        ,  8.        ,\n",
       "        6.        , 10.        , 10.        , 13.        , 12.        ,\n",
       "        7.        ,  8.        ,  7.        ,  5.        ,  9.        ,\n",
       "       14.        ,  6.        , 11.        ,  5.        , 12.        ,\n",
       "       10.        ,  7.        ,  9.        ,  8.        ,  6.        ,\n",
       "        9.        , 11.        ,  5.        , 14.        ,  9.        ,\n",
       "        9.        , 11.        ,  6.        ,  8.        ,  7.        ,\n",
       "       10.        ,  6.        , 10.        ,  5.        ,  7.        ,\n",
       "       11.        , 10.        , 11.        , 13.        , 11.        ,\n",
       "        8.        ,  7.        , 10.        ,  6.        ,  7.        ,\n",
       "       10.        ,  8.        , 14.        , 14.        ,  6.        ,\n",
       "       11.        , 13.        , 10.        , 11.        ,  6.        ,\n",
       "        7.        ,  8.        , 10.        ,  9.        ,  9.        ,\n",
       "       13.        ,  5.        ,  7.        ,  9.        ,  4.        ,\n",
       "       10.        ,  9.        , 16.        ,  6.        ,  8.        ,\n",
       "       12.        , 13.        ,  8.        , 12.        ,  7.        ,\n",
       "       14.        ,  9.        ,  8.        ,  9.        ,  5.        ,\n",
       "        7.        ,  7.        ,  7.        ,  9.        , 11.        ,\n",
       "        7.        , 11.        ,  6.        , 11.        ,  8.        ,\n",
       "       12.        ,  7.        ,  6.        ,  9.        , 17.        ,\n",
       "        6.        ,  8.        ,  9.        ,  8.        ,  5.        ,\n",
       "       10.        , 13.        , 15.        ,  6.        ,  3.        ,\n",
       "       11.        ,  8.        ,  5.        , 11.        ,  7.        ,\n",
       "        9.        ,  8.        ,  5.        , 10.        ,  8.        ,\n",
       "        6.        , 11.        ,  4.        ,  7.        ,  9.        ,\n",
       "       11.        ,  6.        ,  6.        ,  6.        ,  6.        ,\n",
       "        6.        , 15.        ,  4.        ,  8.        ,  8.        ,\n",
       "        7.        , 10.        , 10.        , 10.        ,  9.        ,\n",
       "       15.        ,  7.        ,  8.        ,  7.        , 13.        ,\n",
       "        8.        ,  9.        , 13.        , 12.        , 10.        ,\n",
       "        9.        , 11.        , 12.        ,  9.        ,  8.        ,\n",
       "       10.        , 10.        ,  7.        , 14.        ,  7.        ,\n",
       "       11.        ,  8.        ,  2.        ,  6.        ,  9.        ,\n",
       "        4.        ,  8.        , 10.        , 11.        ,  8.        ,\n",
       "       10.        , 13.        ,  8.        , 10.        , 13.        ,\n",
       "       14.        , 11.        , 11.        , 11.        ,  8.        ,\n",
       "       10.        ,  6.        ,  4.        , 11.        ,  7.        ,\n",
       "       11.        , 11.        , 11.        , 10.        ,  6.        ,\n",
       "       16.        , 12.        ,  8.        , 11.        ,  8.        ,\n",
       "       11.        , 12.        , 11.        ,  5.        ,  9.        ,\n",
       "       10.        ,  8.        ,  8.        ,  6.        ,  8.        ,\n",
       "        7.        ,  8.        ,  6.        , 10.        ,  7.        ,\n",
       "       11.        , 12.        ,  9.        ,  4.        , 10.        ,\n",
       "       12.        , 14.        , 12.        ,  8.        ,  9.        ,\n",
       "        8.        ,  5.        , 11.        , 11.        ,  3.        ,\n",
       "        6.        ,  9.        ,  7.        , 12.        ,  9.        ,\n",
       "       11.        , 12.        ,  7.        ,  6.        ,  6.        ,\n",
       "       16.        , 12.        , 11.        ,  7.        ,  6.        ,\n",
       "        9.        ,  8.        ,  9.        ,  5.        ,  9.        ,\n",
       "       14.        , 11.        ,  7.        ,  8.        ,  9.        ,\n",
       "        9.02076125,  7.        ,  5.        , 10.        ,  8.        ,\n",
       "        9.        , 11.        , 12.        , 10.        , 12.        ,\n",
       "        8.        , 14.        ,  8.        ,  6.        ,  7.        ,\n",
       "        8.        , 11.        ,  8.        ,  9.        ,  8.        ,\n",
       "       14.        , 12.        ,  8.        ,  4.        ,  8.        ,\n",
       "        9.        , 12.        , 13.        ,  5.        , 10.        ,\n",
       "        8.        , 13.        ,  6.        ,  9.        , 13.        ,\n",
       "        8.        ,  8.        ,  7.        , 15.        , 11.        ])"
      ]
     },
     "execution_count": 26,
     "metadata": {},
     "output_type": "execute_result"
    }
   ],
   "source": [
    "y = y.to_numpy(dtype='float64')\n",
    "y"
   ]
  },
  {
   "cell_type": "code",
   "execution_count": 27,
   "metadata": {},
   "outputs": [
    {
     "name": "stdout",
     "output_type": "stream",
     "text": [
      "X_train shape -->(232, 4)\n",
      "X_valid shape -->(29, 4)\n",
      "X_test shape -->(29, 4)\n",
      "y_train shape -->(232,)\n",
      "y_valid shape -->(29,)\n",
      "y_test shape -->(29,)\n"
     ]
    }
   ],
   "source": [
    "# Dividing the dataset into train, validation and test sets. %80 training set, %10 validation set, %10 test set.\n",
    "\n",
    "x_train, x_test, y_train, y_test = model_selection.train_test_split(df, y, test_size=0.2, random_state=42)\n",
    "x_valid, x_test, y_valid, y_test = model_selection.train_test_split(x_test, y_test, test_size=0.5, random_state=42)\n",
    "print(f'X_train shape -->{x_train.shape}')\n",
    "print(f'X_valid shape -->{x_valid.shape}')\n",
    "print(f'X_test shape -->{x_test.shape}')\n",
    "print(f'y_train shape -->{y_train.shape}')\n",
    "print(f'y_valid shape -->{y_valid.shape}')\n",
    "print(f'y_test shape -->{y_test.shape}')"
   ]
  },
  {
   "cell_type": "markdown",
   "metadata": {},
   "source": [
    "Standardization the features using Sklearn. Fitted the train set (because we only want to use these values) and transformed all sets."
   ]
  },
  {
   "cell_type": "code",
   "execution_count": 28,
   "metadata": {},
   "outputs": [],
   "source": [
    "\n",
    "scaler = preprocessing.StandardScaler()\n",
    "x_train = scaler.fit_transform(x_train)\n",
    "x_valid = scaler.transform(x_valid)\n",
    "x_test = scaler.transform(x_test)"
   ]
  },
  {
   "cell_type": "markdown",
   "metadata": {},
   "source": [
    "**Model 1: Linear Regression**\n",
    "\n",
    "    Using Linear Regression as the first model. Model is trained on the train set and made predictions for validation set. Mean Squared Error is used to compute the loss."
   ]
  },
  {
   "cell_type": "code",
   "execution_count": 29,
   "metadata": {},
   "outputs": [
    {
     "data": {
      "text/plain": [
       "8.97515329115397"
      ]
     },
     "execution_count": 29,
     "metadata": {},
     "output_type": "execute_result"
    }
   ],
   "source": [
    "\n",
    "model = linear_model.LinearRegression()\n",
    "model.fit(X=x_train, y=y_train)\n",
    "val_hat = model.predict(x_valid)\n",
    "metrics.mean_squared_error(y_valid, val_hat)\n"
   ]
  },
  {
   "cell_type": "markdown",
   "metadata": {},
   "source": [
    "**Model 2: Poisson Regressor**\n",
    "\n",
    "    Using Poisson Regressor as the second model. Defined the hyper-parameter alpha as 0.1 and maximum iterations is 100 (default setting). "
   ]
  },
  {
   "cell_type": "code",
   "execution_count": 30,
   "metadata": {},
   "outputs": [
    {
     "data": {
      "text/plain": [
       "8.887134708894676"
      ]
     },
     "execution_count": 30,
     "metadata": {},
     "output_type": "execute_result"
    }
   ],
   "source": [
    "poisson = linear_model.PoissonRegressor(alpha=1, max_iter=100)\n",
    "poisson.fit(X=x_train, y=y_train)\n",
    "poi_hat = poisson.predict(x_valid)\n",
    "metrics.mean_squared_error(y_valid, poi_hat)"
   ]
  },
  {
   "cell_type": "markdown",
   "metadata": {},
   "source": [
    "\n",
    "**Model 3: Gamma Regressor**\n",
    "\n",
    "    Using Gamma Regressor as the last model. Used the same parameters as the Poisson Regressor. The Mean Squared Error is lower, so we will use the Gamma Regressor on our test set."
   ]
  },
  {
   "cell_type": "code",
   "execution_count": 31,
   "metadata": {},
   "outputs": [
    {
     "data": {
      "text/plain": [
       "8.532629216509475"
      ]
     },
     "execution_count": 31,
     "metadata": {},
     "output_type": "execute_result"
    }
   ],
   "source": [
    "gamma = linear_model.GammaRegressor(alpha=1, max_iter=100)\n",
    "gamma.fit(x_train, y_train)\n",
    "gamma_val = gamma.predict(x_valid)\n",
    "metrics.mean_squared_error(y_valid, gamma_val)"
   ]
  },
  {
   "cell_type": "markdown",
   "metadata": {},
   "source": [
    "Testing with Gamma progessor on test dataset"
   ]
  },
  {
   "cell_type": "code",
   "execution_count": 32,
   "metadata": {},
   "outputs": [
    {
     "name": "stdout",
     "output_type": "stream",
     "text": [
      "r2score --> -0.08107461766439816\n"
     ]
    }
   ],
   "source": [
    "gamma_test = gamma.predict(x_test)\n",
    "print(f'r2score --> {metrics.r2_score(y_test, gamma_test)}')"
   ]
  },
  {
   "cell_type": "markdown",
   "metadata": {},
   "source": [
    "**Analysis:** \n",
    "\n",
    "    The negative R-squared value means that the prediction tends to be less accurate that the average value of the data set over time.\n",
    "\n",
    "    Correlation coefficient is low which indicates less relationship between the variables (random scatter of the points)\n",
    "\n",
    "**Solution:**\n",
    "\n",
    "    When more variables(features) are added, r-squared values typically increases."
   ]
  },
  {
   "cell_type": "markdown",
   "metadata": {},
   "source": [
    "**Extended analysis on correlation using OLS regression**"
   ]
  },
  {
   "cell_type": "markdown",
   "metadata": {},
   "source": [
    "    When working with small datasets in general, your best bet is resampling. \n",
    "    In other words, this would involve finding the mean and standard deviation of the samples \n",
    "    in your existing data, and then generating random data that would conform to the same mean and standard deviation."
   ]
  },
  {
   "cell_type": "code",
   "execution_count": 33,
   "metadata": {},
   "outputs": [
    {
     "data": {
      "text/plain": [
       "1.005055778830227"
      ]
     },
     "execution_count": 33,
     "metadata": {},
     "output_type": "execute_result"
    }
   ],
   "source": [
    "\n",
    "mu=np.mean(df.hair_length)\n",
    "mu\n"
   ]
  },
  {
   "cell_type": "code",
   "execution_count": 34,
   "metadata": {},
   "outputs": [
    {
     "data": {
      "text/plain": [
       "0.09708475960653629"
      ]
     },
     "execution_count": 34,
     "metadata": {},
     "output_type": "execute_result"
    }
   ],
   "source": [
    "stdev=np.std(df.hair_length)\n",
    "stdev"
   ]
  },
  {
   "cell_type": "code",
   "execution_count": 35,
   "metadata": {},
   "outputs": [
    {
     "data": {
      "text/plain": [
       "array([0.82363209, 1.07442743, 0.97339818, ..., 1.10508599, 1.13991006,\n",
       "       0.94286874])"
      ]
     },
     "execution_count": 35,
     "metadata": {},
     "output_type": "execute_result"
    }
   ],
   "source": [
    "s_hair_length = np.random.normal(mu, stdev, 2000)\n",
    "s_hair_length"
   ]
  },
  {
   "cell_type": "code",
   "execution_count": 36,
   "metadata": {},
   "outputs": [
    {
     "data": {
      "text/plain": [
       "array([ 7.34164201,  6.8271422 ,  6.44462395, ...,  4.49145942,\n",
       "       10.53065368, 11.54200812])"
      ]
     },
     "execution_count": 36,
     "metadata": {},
     "output_type": "execute_result"
    }
   ],
   "source": [
    "mu=np.mean(df.number_of_vet_visits)\n",
    "stdev=np.std(df.number_of_vet_visits)\n",
    "\n",
    "s_number_of_vet_visits = np.random.normal(mu, stdev, 2000)\n",
    "s_number_of_vet_visits"
   ]
  },
  {
   "cell_type": "code",
   "execution_count": 37,
   "metadata": {},
   "outputs": [
    {
     "data": {
      "text/plain": [
       "array([4.61530432, 3.32640845, 5.51722234, ..., 4.4620533 , 5.411571  ,\n",
       "       7.05123788])"
      ]
     },
     "execution_count": 37,
     "metadata": {},
     "output_type": "execute_result"
    }
   ],
   "source": [
    "mu=np.mean(df.weight)\n",
    "stdev=np.std(df.weight)\n",
    "\n",
    "s_weight = np.random.normal(mu, stdev, 2000)\n",
    "s_weight\n",
    "\n"
   ]
  },
  {
   "cell_type": "code",
   "execution_count": 38,
   "metadata": {},
   "outputs": [
    {
     "data": {
      "text/plain": [
       "array([23.72421602, 24.39363342, 24.03647036, ..., 18.63538439,\n",
       "       15.04799202, 23.10670049])"
      ]
     },
     "execution_count": 38,
     "metadata": {},
     "output_type": "execute_result"
    }
   ],
   "source": [
    "mu=np.mean(df.height)\n",
    "stdev=np.std(df.height)\n",
    "\n",
    "s_height = np.random.normal(mu, stdev, 2000)\n",
    "s_height\n",
    "\n",
    "\n"
   ]
  },
  {
   "cell_type": "code",
   "execution_count": 39,
   "metadata": {},
   "outputs": [
    {
     "data": {
      "text/plain": [
       "array([7.89981893, 7.04006014, 6.17585425, ..., 4.31015832, 9.01222241,\n",
       "       7.26981131])"
      ]
     },
     "execution_count": 39,
     "metadata": {},
     "output_type": "execute_result"
    }
   ],
   "source": [
    "mu=np.mean(df_copy.age_at_death)\n",
    "stdev=np.std(df_copy.age_at_death)\n",
    "\n",
    "s_age_at_death = np.random.normal(mu, stdev, 2000)\n",
    "s_age_at_death\n",
    "\n",
    "\n",
    "\n"
   ]
  },
  {
   "cell_type": "code",
   "execution_count": 40,
   "metadata": {},
   "outputs": [
    {
     "name": "stdout",
     "output_type": "stream",
     "text": [
      "      age_at_death  hair_length     height  number_of_vet_visits    weight\n",
      "0         7.899819     0.823632  23.724216              7.341642  4.615304\n",
      "1         7.040060     1.074427  24.393633              6.827142  3.326408\n",
      "2         6.175854     0.973398  24.036470              6.444624  5.517222\n",
      "3         9.262417     0.977253  19.386631              6.802259  4.807996\n",
      "4         5.185937     0.935546  13.772839              8.078909  5.889417\n",
      "...            ...          ...        ...                   ...       ...\n",
      "1995      4.755730     0.860243  22.251403              6.855063  6.026874\n",
      "1996     11.273952     0.915855  19.835606              9.002651  3.360237\n",
      "1997      4.310158     1.105086  18.635384              4.491459  4.462053\n",
      "1998      9.012222     1.139910  15.047992             10.530654  5.411571\n",
      "1999      7.269811     0.942869  23.106700             11.542008  7.051238\n",
      "\n",
      "[2000 rows x 5 columns]\n"
     ]
    }
   ],
   "source": [
    "# creating new dataframe with resampled variables\n",
    "df_2000 = pd.DataFrame(zip(s_age_at_death,s_hair_length,s_height, s_number_of_vet_visits,s_weight), columns=['age_at_death','hair_length','height', 'number_of_vet_visits','weight'])\n",
    "print(df_2000)"
   ]
  },
  {
   "cell_type": "code",
   "execution_count": 41,
   "metadata": {},
   "outputs": [
    {
     "data": {
      "image/png": "[encoded data removed]",
      "text/plain": [
       "<Figure size 720x576 with 2 Axes>"
      ]
     },
     "metadata": {
      "needs_background": "light"
     },
     "output_type": "display_data"
    }
   ],
   "source": [
    "# Plot heatmap to visualize the correlations.\n",
    "plt.figure(figsize = (10, 8))\n",
    "# sns.heatmap(df.corr(), annot = True)\n",
    "sns.heatmap(df_2000.corr(), cmap=\"seismic\", annot=True, vmin=-1, vmax=1)\n",
    "plt.title('Correlation between different features');"
   ]
  },
  {
   "cell_type": "markdown",
   "metadata": {},
   "source": [
    "    We still dont notice any significant correlation between features"
   ]
  },
  {
   "cell_type": "markdown",
   "metadata": {},
   "source": [
    "**Ordinary least squares (OLS) regression is a statistical method of analysis that estimates the relationship between one or more independent variables and a dependent variable**"
   ]
  },
  {
   "cell_type": "code",
   "execution_count": 42,
   "metadata": {},
   "outputs": [
    {
     "data": {
      "text/plain": [
       "const          8.872498\n",
       "hair_length    0.023103\n",
       "dtype: float64"
      ]
     },
     "execution_count": 42,
     "metadata": {},
     "output_type": "execute_result"
    }
   ],
   "source": [
    "# OLS regression model\n",
    "import statsmodels.api as sm\n",
    "\n",
    "Y = df_2000['age_at_death']\n",
    "X = df_2000['hair_length']\n",
    "X = sm.add_constant(X)\n",
    "model = sm.OLS(Y,X)\n",
    "results_hair_length = model.fit()\n",
    "results_hair_length.params"
   ]
  },
  {
   "cell_type": "code",
   "execution_count": 43,
   "metadata": {},
   "outputs": [
    {
     "data": {
      "text/plain": [
       "const                   9.001887\n",
       "number_of_vet_visits   -0.012671\n",
       "dtype: float64"
      ]
     },
     "execution_count": 43,
     "metadata": {},
     "output_type": "execute_result"
    }
   ],
   "source": [
    "Y = df_2000['age_at_death']\n",
    "X = df_2000['number_of_vet_visits']\n",
    "X = sm.add_constant(X)\n",
    "model = sm.OLS(Y,X)\n",
    "results_number_of_vet_visits = model.fit()\n",
    "results_number_of_vet_visits.params"
   ]
  },
  {
   "cell_type": "code",
   "execution_count": 44,
   "metadata": {},
   "outputs": [
    {
     "data": {
      "text/plain": [
       "const     8.627995\n",
       "height    0.012887\n",
       "dtype: float64"
      ]
     },
     "execution_count": 44,
     "metadata": {},
     "output_type": "execute_result"
    }
   ],
   "source": [
    "Y = df_2000['age_at_death']\n",
    "X = df_2000['height']\n",
    "X = sm.add_constant(X)\n",
    "model = sm.OLS(Y,X)\n",
    "results_height = model.fit()\n",
    "results_height.params"
   ]
  },
  {
   "cell_type": "code",
   "execution_count": 45,
   "metadata": {},
   "outputs": [
    {
     "data": {
      "text/plain": [
       "const     9.090541\n",
       "weight   -0.048833\n",
       "dtype: float64"
      ]
     },
     "execution_count": 45,
     "metadata": {},
     "output_type": "execute_result"
    }
   ],
   "source": [
    "Y = df_2000['age_at_death']\n",
    "X = df_2000['weight']\n",
    "X = sm.add_constant(X)\n",
    "model = sm.OLS(Y,X)\n",
    "results_weight = model.fit()\n",
    "results_weight.params"
   ]
  },
  {
   "cell_type": "code",
   "execution_count": 46,
   "metadata": {},
   "outputs": [
    {
     "data": {
      "text/plain": [
       "const          14.108958\n",
       "hair_length     0.037227\n",
       "dtype: float64"
      ]
     },
     "execution_count": 46,
     "metadata": {},
     "output_type": "execute_result"
    }
   ],
   "source": [
    "results_hair_length.tvalues"
   ]
  },
  {
   "cell_type": "markdown",
   "metadata": {},
   "source": [
    "**Analysis:**\n",
    "\n",
    "    Ordinary least squares (OLS) regression analysis shows us the relationship between 'hair_length','height','number_of_vet_visits','weight' features/variables show very low/independent of the target feature age_at_death.\n",
    "\n",
    "**Solution:**\n",
    "    \n",
    "    Will need more varibales to predict the life expectancy of cats. These variables provided shows low correlation/dependency to the target feature."
   ]
  },
  {
   "cell_type": "markdown",
   "metadata": {},
   "source": [
    "End of document\n",
    "\n",
    "Refrence: Stackoverflow"
   ]
  }
 ],
 "metadata": {
  "kernelspec": {
   "display_name": "Python 3",
   "language": "python",
   "name": "python3"
  },
  "language_info": {
   "codemirror_mode": {
    "name": "ipython",
    "version": 3
   },
   "file_extension": ".py",
   "mimetype": "text/x-python",
   "name": "python",
   "nbconvert_exporter": "python",
   "pygments_lexer": "ipython3",
   "version": "3.7.6"
  }
 },
 "nbformat": 4,
 "nbformat_minor": 4
}
